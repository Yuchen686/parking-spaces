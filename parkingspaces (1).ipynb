{
  "nbformat": 4,
  "nbformat_minor": 0,
  "metadata": {
    "colab": {
      "provenance": []
    },
    "kernelspec": {
      "name": "python3",
      "display_name": "Python 3"
    },
    "language_info": {
      "name": "python"
    }
  },
  "cells": [
    {
      "cell_type": "code",
      "execution_count": 2,
      "metadata": {
        "id": "51IZuPwDVITG",
        "outputId": "0987ec24-583b-4104-9898-54ae4c7ed883",
        "colab": {
          "base_uri": "https://localhost:8080/"
        }
      },
      "outputs": [
        {
          "output_type": "stream",
          "name": "stdout",
          "text": [
            "Minimum number of parking Spaces that meet the conditions: 12\n"
          ]
        }
      ],
      "source": [
        "from math import factorial\n",
        "import numpy as np\n",
        "def erlang_b(lambda_rate, mu_rate, num_servers):\n",
        "    '''\n",
        "    Calculate the probability that all service facilities are occupied under the M/M/c/c model\n",
        "    (Erlang-B formula).\n",
        "    parameter:\n",
        "    lambda_rate: the rate of customer arrive dependent on time\n",
        "    mu_rate: the rate of service dependent on time\n",
        "    num_servers: the number of parking spaces\n",
        "    Return:\n",
        "    -P_full: the probability of all parking spaces occupied\n",
        "    '''\n",
        "    rho = lambda_rate / mu_rate  # rho is ρ (Flow intensity (load intensity per service facility)\n",
        "    numerator = (rho ** num_servers) / factorial(num_servers)  # numerator is the Formula molecule\n",
        "    denominator = sum((rho ** k) / factorial(k) for k in range(num_servers + 1))\n",
        "    P_full = numerator / denominator\n",
        "    return P_full\n",
        "\n",
        "def time_weighted_erlang_b(lambda_func, mu_func, num_servers, sim_time, resolution=1000):\n",
        "    \"\"\"\n",
        "    Compute the time-weighted probability of full occupancy using the Erlang-B model.\n",
        "    parameter:\n",
        "    lambda_func: the time-dependent arrival rate λ(t)\n",
        "    mu_func: the time-dependent service rate μ(t)\n",
        "    num_servers: the number of parking spaces\n",
        "    sim_time: total simulation time\n",
        "    resolution: the number of time steps for simulation\n",
        "    Return: maximum full occupancy probability over time\n",
        "    \"\"\"\n",
        "    dt = sim_time / resolution  # Time step size\n",
        "    probabilities = []\n",
        "\n",
        "    for step in range(resolution):\n",
        "        t = step * dt\n",
        "        lambda_rate = lambda_func(t)\n",
        "        mu_rate = mu_func(t)\n",
        "        P_full = erlang_b(lambda_rate, mu_rate, num_servers)\n",
        "        probabilities.append(P_full)\n",
        "\n",
        "    # Maximum probability over time\n",
        "    return max(probabilities)\n",
        "\n",
        "def find_min_parking(lambda_func, mu_func, target_probability, sim_time=24):\n",
        "    \"\"\"\n",
        "    Find the minimum number of parking spaces to satisfy the target full occupancy probability\n",
        "    using the Erlang-B model.\n",
        "    parameter:\n",
        "    lambda_func: the time-dependent arrival rate λ(t)\n",
        "    mu_func: the time-dependent service rate μ(t)\n",
        "    target_probability: target full occupancy probability 0.005\n",
        "    sim_time: total simulation time\n",
        "    Return: minimum number of parking spaces\n",
        "    \"\"\"\n",
        "    num_servers = 1\n",
        "    while True:\n",
        "        P_full = time_weighted_erlang_b(lambda_func, mu_func, num_servers, sim_time)\n",
        "        if P_full < target_probability:\n",
        "            return num_servers\n",
        "        num_servers += 1\n",
        "# Example parameter\n",
        "lambda_rate = lambda t: 40 + 20 * np.sin(2 * np.pi * t / 24)\n",
        "mu_rate = lambda t: 15 + 5 * np.cos(2 * np.pi * t / 24)\n",
        "target_probability = 0.005\n",
        "min_parking = find_min_parking(lambda_rate, mu_rate, target_probability)\n",
        "print(f\"Minimum number of parking Spaces that meet the conditions: {min_parking}\")"
      ]
    }
  ]
}
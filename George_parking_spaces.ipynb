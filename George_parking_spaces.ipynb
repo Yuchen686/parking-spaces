{
  "nbformat": 4,
  "nbformat_minor": 0,
  "metadata": {
    "colab": {
      "provenance": [],
      "authorship_tag": "ABX9TyNMVATbFUREjxz/rlRLbwF4",
      "include_colab_link": true
    },
    "kernelspec": {
      "name": "python3",
      "display_name": "Python 3"
    },
    "language_info": {
      "name": "python"
    }
  },
  "cells": [
    {
      "cell_type": "markdown",
      "metadata": {
        "id": "view-in-github",
        "colab_type": "text"
      },
      "source": [
        "<a href=\"https://colab.research.google.com/github/Yuchen686/parking-spaces/blob/main/George_parking_spaces.ipynb\" target=\"_parent\"><img src=\"https://colab.research.google.com/assets/colab-badge.svg\" alt=\"Open In Colab\"/></a>"
      ]
    },
    {
      "cell_type": "code",
      "execution_count": null,
      "metadata": {
        "id": "1Oo3zesmCXNl"
      },
      "outputs": [],
      "source": [
        "import numpy as np\n",
        "from math import factorial, log, exp\n",
        "import matplotlib.pyplot as plt\n",
        "\n",
        "from math import log, exp\n",
        "\n",
        "def erlang_b(lambda_rate, mu_rate, num_servers):\n",
        "    '''\n",
        "    Calculate the probability that all service facilities are occupied under the M/M/c/c model\n",
        "    (Erlang-B formula), using logarithms for numerical stability.\n",
        "    Parameters:\n",
        "    - lambda_rate: arrival rate (scalar)\n",
        "    - mu_rate: service rate (scalar)\n",
        "    - num_servers: number of parking spaces (int)\n",
        "    Returns:\n",
        "    - P_full: probability of all parking spaces being occupied\n",
        "    '''\n",
        "    rho = lambda_rate / mu_rate  # Flow intensity\n",
        "    log_rho = log(rho)  # Logarithm of rho\n",
        "\n",
        "    # Calculate the numerator (logarithmic version)\n",
        "    log_numerator = num_servers * log_rho - log_factorial(num_servers)\n",
        "\n",
        "    # Calculate the denominator (logarithmic summation)\n",
        "    log_denominator_terms = [\n",
        "        k * log_rho - log_factorial(k) for k in range(num_servers + 1)\n",
        "    ]\n",
        "    log_denominator = log_sum_exp(log_denominator_terms)\n",
        "\n",
        "    # Calculate P_full using the difference of logs\n",
        "    log_p_full = log_numerator - log_denominator\n",
        "    P_full = exp(log_p_full)  # Exponentiate back to get the final value\n",
        "    return P_full\n",
        "\n",
        "def log_factorial(n):\n",
        "    '''Compute the logarithm of factorial using summation of logs.'''\n",
        "    return sum(log(k) for k in range(1, n + 1))\n",
        "\n",
        "def log_sum_exp(log_values):\n",
        "    '''Compute log(sum(exp(log_values))) in a numerically stable way.'''\n",
        "    max_log = max(log_values)\n",
        "    return max_log + log(sum(exp(val - max_log) for val in log_values))\n",
        "\n",
        "def find_min_parking(lambda_rate, mu_rate, target_probability):\n",
        "    '''\n",
        "    Find the minimum number of parking spaces required to meet the target full probability.\n",
        "    Parameters:\n",
        "    - lambda_rate: arrival rate (scalar)\n",
        "    - mu_rate: service rate (scalar)\n",
        "    - target_probability: target probability (e.g., 0.005 for 0.5%)\n",
        "    Returns:\n",
        "    - Minimum number of parking spaces (int)\n",
        "    '''\n",
        "    num_servers = 1\n",
        "    while True:\n",
        "        P_full = erlang_b(lambda_rate, mu_rate, num_servers)\n",
        "        if P_full < target_probability:\n",
        "            return num_servers\n",
        "        num_servers += 1\n",
        "\n",
        "# Generate exponential distribution samples\n",
        "lambda_rate_exp_samples = np.random.exponential(scale=10, size=1000)  # Generate arrival rates\n",
        "mu_rate_exp_samples = np.random.exponential(scale=10, size=1000) # Generate departure rates\n",
        "# Other parameters\n",
        "target_probability = 0.005  # Target: less than 0.5% probability of full parking\n",
        "\n",
        "# Calculate the minimum number of parking spaces for each value in the distribution\n",
        "parking_spaces = [\n",
        "    find_min_parking(lambda_rate, mu_rate, target_probability)\n",
        "    for lambda_rate, mu_rate in zip(lambda_rate_exp_samples, mu_rate_exp_samples)\n",
        "]\n",
        "\n",
        "print(f\"Max parking spaces required: {max(parking_spaces)}\")\n",
        "print(f\"Min parking spaces required: {min(parking_spaces)}\")\n",
        "print(f\"Average parking spaces required: {np.mean(parking_spaces):.2f}\")\n",
        "\n",
        "# Visualization: Scatter plot of required parking spaces\n",
        "plt.figure(figsize=(10, 6))\n",
        "plt.scatter(lambda_rate_exp_samples, mu_rate_exp_samples, c=parking_spaces, cmap='viridis', alpha=0.7, edgecolor='k')\n",
        "plt.colorbar(label='Minimum Parking Spaces')\n",
        "plt.xscale('log')\n",
        "plt.yscale('log')\n",
        "plt.title('Minimum Parking Spaces vs. Arrival and Departure Rates')\n",
        "plt.xlabel('Arrival Rate (λ)')\n",
        "plt.ylabel('Departure Rate (μ)')\n",
        "plt.grid()\n",
        "plt.show()"
      ]
    }
  ]
}